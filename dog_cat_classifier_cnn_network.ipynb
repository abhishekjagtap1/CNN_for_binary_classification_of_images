{
  "nbformat": 4,
  "nbformat_minor": 0,
  "metadata": {
    "colab": {
      "name": "convolutional_neural_network.ipynb",
      "provenance": [],
      "collapsed_sections": []
    },
    "kernelspec": {
      "name": "python3",
      "display_name": "Python 3"
    }
  },
  "cells": [
    {
      "cell_type": "markdown",
      "metadata": {
        "id": "3DR-eO17geWu"
      },
      "source": [
        "# Convolutional Neural Network"
      ]
    },
    {
      "cell_type": "markdown",
      "metadata": {
        "id": "EMefrVPCg-60"
      },
      "source": [
        "### Importing the libraries"
      ]
    },
    {
      "cell_type": "code",
      "metadata": {
        "id": "NnWB-7C0-PC4"
      },
      "source": [
        "import tensorflow as tf\r\n",
        "from keras.preprocessing.image import ImageDataGenerator"
      ],
      "execution_count": null,
      "outputs": []
    },
    {
      "cell_type": "code",
      "metadata": {
        "colab": {
          "base_uri": "https://localhost:8080/",
          "height": 35
        },
        "id": "gZC6z0FY-kt0",
        "outputId": "5b3bbe81-be14-4538-ce5c-9af226117ace"
      },
      "source": [
        "tf.__version__"
      ],
      "execution_count": null,
      "outputs": [
        {
          "output_type": "execute_result",
          "data": {
            "application/vnd.google.colaboratory.intrinsic+json": {
              "type": "string"
            },
            "text/plain": [
              "'2.3.0'"
            ]
          },
          "metadata": {
            "tags": []
          },
          "execution_count": 5
        }
      ]
    },
    {
      "cell_type": "code",
      "metadata": {
        "id": "cgHH-HqyynRj"
      },
      "source": [
        "from google.colab import drive\n",
        "drive.mount('/content/drive')"
      ],
      "execution_count": null,
      "outputs": []
    },
    {
      "cell_type": "markdown",
      "metadata": {
        "id": "oxQxCBWyoGPE"
      },
      "source": [
        "# Data Preprocessing"
      ]
    },
    {
      "cell_type": "markdown",
      "metadata": {
        "id": "MvE-heJNo3GG"
      },
      "source": [
        "### Preprocessing the Training set"
      ]
    },
    {
      "cell_type": "code",
      "metadata": {
        "colab": {
          "base_uri": "https://localhost:8080/"
        },
        "id": "ClKTvA_S-zQ3",
        "outputId": "e363d8b2-6241-4089-b60b-5a40b9cfbb1b"
      },
      "source": [
        "train_datagen = ImageDataGenerator(\r\n",
        "        rescale=1./255,\r\n",
        "        shear_range=0.2,\r\n",
        "        zoom_range=0.2,\r\n",
        "        horizontal_flip=True)\r\n",
        "\r\n",
        "training_set = train_datagen.flow_from_directory(\r\n",
        "        '/content/drive/MyDrive/Python/dataset/training_set',\r\n",
        "        target_size=(64, 64),\r\n",
        "        batch_size=32,\r\n",
        "        class_mode='binary')"
      ],
      "execution_count": null,
      "outputs": [
        {
          "output_type": "stream",
          "text": [
            "Found 8000 images belonging to 2 classes.\n"
          ],
          "name": "stdout"
        }
      ]
    },
    {
      "cell_type": "code",
      "metadata": {
        "id": "mPk8Mf7NC7xs"
      },
      "source": [
        "#pre-processing the test data"
      ],
      "execution_count": null,
      "outputs": []
    },
    {
      "cell_type": "code",
      "metadata": {
        "colab": {
          "base_uri": "https://localhost:8080/"
        },
        "id": "87eZKTObEYlH",
        "outputId": "a27a7bfd-a455-4d07-f504-e45487ddca30"
      },
      "source": [
        "test_datagen = ImageDataGenerator(rescale=1./255)\r\n",
        "test_set = test_datagen.flow_from_directory(\r\n",
        "        '/content/drive/MyDrive/Python/dataset/test_set',\r\n",
        "        target_size=(64, 64),\r\n",
        "        batch_size=32,\r\n",
        "        class_mode='binary')"
      ],
      "execution_count": null,
      "outputs": [
        {
          "output_type": "stream",
          "text": [
            "Found 2000 images belonging to 2 classes.\n"
          ],
          "name": "stdout"
        }
      ]
    },
    {
      "cell_type": "markdown",
      "metadata": {
        "id": "af8O4l90gk7B"
      },
      "source": [
        "#Building the CNN"
      ]
    },
    {
      "cell_type": "markdown",
      "metadata": {
        "id": "ces1gXY2lmoX"
      },
      "source": [
        "### Initialising the CNN"
      ]
    },
    {
      "cell_type": "code",
      "metadata": {
        "id": "GpFL8LWq2WjJ"
      },
      "source": [
        "cnn = tf.keras.models.Sequential()"
      ],
      "execution_count": null,
      "outputs": []
    },
    {
      "cell_type": "markdown",
      "metadata": {
        "id": "u5YJj_XMl5LF"
      },
      "source": [
        "Convolution"
      ]
    },
    {
      "cell_type": "code",
      "metadata": {
        "id": "u4HoQOKf2sJZ"
      },
      "source": [
        "cnn.add(tf.keras.layers.Conv2D(filters=32, kernel_size=3, activation='relu', input_shape = [64,64,3]))"
      ],
      "execution_count": null,
      "outputs": []
    },
    {
      "cell_type": "markdown",
      "metadata": {
        "id": "tf87FpvxmNOJ"
      },
      "source": [
        "# Pooling"
      ]
    },
    {
      "cell_type": "code",
      "metadata": {
        "id": "CvsLdd_r4DRH"
      },
      "source": [
        "cnn.add(tf.keras.layers.MaxPool2D(pool_size=(2, 2),strides=2))"
      ],
      "execution_count": null,
      "outputs": []
    },
    {
      "cell_type": "markdown",
      "metadata": {
        "id": "xaTOgD8rm4mU"
      },
      "source": [
        "#second convolutional layer"
      ]
    },
    {
      "cell_type": "code",
      "metadata": {
        "id": "GAozRl5z532h"
      },
      "source": [
        "cnn.add(tf.keras.layers.Conv2D(filters=32, kernel_size=3, activation='relu'))\r\n",
        "cnn.add(tf.keras.layers.MaxPool2D(pool_size=(2, 2),strides=2))"
      ],
      "execution_count": null,
      "outputs": []
    },
    {
      "cell_type": "code",
      "metadata": {
        "id": "ID80oMgR6UyI"
      },
      "source": [
        "cnn.add(tf.keras.layers.Flatten())# flattening"
      ],
      "execution_count": null,
      "outputs": []
    },
    {
      "cell_type": "markdown",
      "metadata": {
        "id": "dAoSECOm203v"
      },
      "source": [
        "#Full Connection"
      ]
    },
    {
      "cell_type": "code",
      "metadata": {
        "id": "9xukD9qx6h5H"
      },
      "source": [
        "cnn.add(tf.keras.layers.Dense(units=128, activation='relu'))"
      ],
      "execution_count": null,
      "outputs": []
    },
    {
      "cell_type": "markdown",
      "metadata": {
        "id": "yTldFvbX28Na"
      },
      "source": [
        "# Output Layer"
      ]
    },
    {
      "cell_type": "code",
      "metadata": {
        "id": "Tjkooje97dG2"
      },
      "source": [
        "cnn.add(tf.keras.layers.Dense(units=1, activation='sigmoid'))"
      ],
      "execution_count": null,
      "outputs": []
    },
    {
      "cell_type": "markdown",
      "metadata": {
        "id": "D6XkI90snSDl"
      },
      "source": [
        "#Training the CNN"
      ]
    },
    {
      "cell_type": "code",
      "metadata": {
        "id": "OWJ7D42H72IE"
      },
      "source": [
        "cnn.compile(optimizer = 'adam', loss = 'binary_crossentropy', metrics=['accuracy'])"
      ],
      "execution_count": null,
      "outputs": []
    },
    {
      "cell_type": "markdown",
      "metadata": {
        "id": "ehS-v3MIpX2h"
      },
      "source": [
        "# Training and evaluating it on the Test set"
      ]
    },
    {
      "cell_type": "code",
      "metadata": {
        "colab": {
          "base_uri": "https://localhost:8080/"
        },
        "id": "QSLaoviU87fc",
        "outputId": "bbbd707b-1781-4015-865c-4ea0ac674397"
      },
      "source": [
        "cnn.fit(training_set, validation_data = test_set, epochs = 25)"
      ],
      "execution_count": null,
      "outputs": [
        {
          "output_type": "stream",
          "text": [
            "Epoch 1/25\n",
            "250/250 [==============================] - 3778s 15s/step - loss: 0.6677 - accuracy: 0.5899 - val_loss: 0.6481 - val_accuracy: 0.6280\n",
            "Epoch 2/25\n",
            "250/250 [==============================] - 81s 324ms/step - loss: 0.5949 - accuracy: 0.6785 - val_loss: 0.5798 - val_accuracy: 0.7030\n",
            "Epoch 3/25\n",
            "250/250 [==============================] - 80s 321ms/step - loss: 0.5581 - accuracy: 0.7080 - val_loss: 0.5509 - val_accuracy: 0.7320\n",
            "Epoch 4/25\n",
            "250/250 [==============================] - 80s 320ms/step - loss: 0.5210 - accuracy: 0.7390 - val_loss: 0.5187 - val_accuracy: 0.7535\n",
            "Epoch 5/25\n",
            "250/250 [==============================] - 80s 322ms/step - loss: 0.4984 - accuracy: 0.7559 - val_loss: 0.5063 - val_accuracy: 0.7540\n",
            "Epoch 6/25\n",
            "250/250 [==============================] - 82s 327ms/step - loss: 0.4848 - accuracy: 0.7626 - val_loss: 0.4808 - val_accuracy: 0.7665\n",
            "Epoch 7/25\n",
            "250/250 [==============================] - 81s 323ms/step - loss: 0.4698 - accuracy: 0.7782 - val_loss: 0.4819 - val_accuracy: 0.7810\n",
            "Epoch 8/25\n",
            "250/250 [==============================] - 80s 321ms/step - loss: 0.4501 - accuracy: 0.7844 - val_loss: 0.4646 - val_accuracy: 0.7910\n",
            "Epoch 9/25\n",
            "250/250 [==============================] - 80s 321ms/step - loss: 0.4413 - accuracy: 0.7931 - val_loss: 0.4491 - val_accuracy: 0.7875\n",
            "Epoch 10/25\n",
            "250/250 [==============================] - 81s 326ms/step - loss: 0.4289 - accuracy: 0.7970 - val_loss: 0.4658 - val_accuracy: 0.7810\n",
            "Epoch 11/25\n",
            "250/250 [==============================] - 82s 327ms/step - loss: 0.4126 - accuracy: 0.8076 - val_loss: 0.4608 - val_accuracy: 0.7915\n",
            "Epoch 12/25\n",
            "250/250 [==============================] - 82s 329ms/step - loss: 0.4093 - accuracy: 0.8133 - val_loss: 0.4661 - val_accuracy: 0.7865\n",
            "Epoch 13/25\n",
            "250/250 [==============================] - 82s 328ms/step - loss: 0.3998 - accuracy: 0.8184 - val_loss: 0.4357 - val_accuracy: 0.7960\n",
            "Epoch 14/25\n",
            "250/250 [==============================] - 83s 330ms/step - loss: 0.3797 - accuracy: 0.8284 - val_loss: 0.4455 - val_accuracy: 0.7995\n",
            "Epoch 15/25\n",
            "250/250 [==============================] - 82s 328ms/step - loss: 0.3703 - accuracy: 0.8372 - val_loss: 0.4671 - val_accuracy: 0.7905\n",
            "Epoch 16/25\n",
            "250/250 [==============================] - 81s 323ms/step - loss: 0.3674 - accuracy: 0.8339 - val_loss: 0.4860 - val_accuracy: 0.7755\n",
            "Epoch 17/25\n",
            "250/250 [==============================] - 82s 327ms/step - loss: 0.3569 - accuracy: 0.8380 - val_loss: 0.4537 - val_accuracy: 0.7970\n",
            "Epoch 18/25\n",
            "250/250 [==============================] - 84s 336ms/step - loss: 0.3519 - accuracy: 0.8413 - val_loss: 0.4706 - val_accuracy: 0.7970\n",
            "Epoch 19/25\n",
            "250/250 [==============================] - 83s 330ms/step - loss: 0.3267 - accuracy: 0.8551 - val_loss: 0.4541 - val_accuracy: 0.8015\n",
            "Epoch 20/25\n",
            "250/250 [==============================] - 80s 321ms/step - loss: 0.3144 - accuracy: 0.8615 - val_loss: 0.4525 - val_accuracy: 0.8050\n",
            "Epoch 21/25\n",
            "250/250 [==============================] - 86s 343ms/step - loss: 0.3117 - accuracy: 0.8626 - val_loss: 0.4664 - val_accuracy: 0.7995\n",
            "Epoch 22/25\n",
            "250/250 [==============================] - 83s 334ms/step - loss: 0.2993 - accuracy: 0.8668 - val_loss: 0.4520 - val_accuracy: 0.8070\n",
            "Epoch 23/25\n",
            "250/250 [==============================] - 80s 318ms/step - loss: 0.2813 - accuracy: 0.8806 - val_loss: 0.4498 - val_accuracy: 0.8100\n",
            "Epoch 24/25\n",
            "250/250 [==============================] - 79s 316ms/step - loss: 0.2793 - accuracy: 0.8813 - val_loss: 0.4552 - val_accuracy: 0.8020\n",
            "Epoch 25/25\n",
            "250/250 [==============================] - 81s 324ms/step - loss: 0.2710 - accuracy: 0.8861 - val_loss: 0.4851 - val_accuracy: 0.8045\n"
          ],
          "name": "stdout"
        },
        {
          "output_type": "execute_result",
          "data": {
            "text/plain": [
              "<tensorflow.python.keras.callbacks.History at 0x7ffb3bff36d8>"
            ]
          },
          "metadata": {
            "tags": []
          },
          "execution_count": 19
        }
      ]
    },
    {
      "cell_type": "markdown",
      "metadata": {
        "id": "U3PZasO0006Z"
      },
      "source": [
        "#test prediction"
      ]
    },
    {
      "cell_type": "code",
      "metadata": {
        "id": "_MXewWc8-kU_"
      },
      "source": [
        "import numpy as np\r\n",
        "from keras.preprocessing import image\r\n",
        "test_image = image.load_img('/content/drive/MyDrive/Python/dataset/cat_or_dog_2.jpg', target_size =(64, 64))\r\n",
        "test_image = image.img_to_array(test_image)\r\n",
        "test_image = np.expand_dims(test_image, axis = 0)\r\n",
        "result = cnn.predict(test_image)\r\n",
        "\r\n",
        "\r\n",
        "if result[0][0] == 1:\r\n",
        "  prediction = 'Dog'\r\n",
        "else:\r\n",
        "  prediction = 'Cat'\r\n"
      ],
      "execution_count": null,
      "outputs": []
    },
    {
      "cell_type": "code",
      "metadata": {
        "colab": {
          "base_uri": "https://localhost:8080/"
        },
        "id": "VKmrDZnZB5Pe",
        "outputId": "876398a5-070d-40a9-f4f9-c5790d19fbeb"
      },
      "source": [
        "print(prediction)"
      ],
      "execution_count": null,
      "outputs": [
        {
          "output_type": "stream",
          "text": [
            "Cat\n"
          ],
          "name": "stdout"
        }
      ]
    }
  ]
}