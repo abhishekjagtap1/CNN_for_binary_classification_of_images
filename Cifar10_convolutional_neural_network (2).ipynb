{
  "nbformat": 4,
  "nbformat_minor": 0,
  "metadata": {
    "colab": {
      "name": "Cifar10_convolutional_neural_network.ipynb",
      "provenance": [],
      "collapsed_sections": []
    },
    "kernelspec": {
      "name": "python3",
      "display_name": "Python 3"
    }
  },
  "cells": [
    {
      "cell_type": "markdown",
      "metadata": {
        "id": "3DR-eO17geWu"
      },
      "source": [
        "# Convolutional Neural Network"
      ]
    },
    {
      "cell_type": "markdown",
      "metadata": {
        "id": "EMefrVPCg-60"
      },
      "source": [
        "### Importing the libraries"
      ]
    },
    {
      "cell_type": "code",
      "metadata": {
        "id": "NnWB-7C0-PC4"
      },
      "source": [
        "import tensorflow as tf\r\n",
        "from keras.preprocessing.image import ImageDataGenerator"
      ],
      "execution_count": 1,
      "outputs": []
    },
    {
      "cell_type": "code",
      "metadata": {
        "colab": {
          "base_uri": "https://localhost:8080/",
          "height": 35
        },
        "id": "gZC6z0FY-kt0",
        "outputId": "f79ae228-03bb-4234-aa57-3f5c269f5769"
      },
      "source": [
        "tf.__version__"
      ],
      "execution_count": 2,
      "outputs": [
        {
          "output_type": "execute_result",
          "data": {
            "application/vnd.google.colaboratory.intrinsic+json": {
              "type": "string"
            },
            "text/plain": [
              "'2.4.0'"
            ]
          },
          "metadata": {
            "tags": []
          },
          "execution_count": 2
        }
      ]
    },
    {
      "cell_type": "code",
      "metadata": {
        "id": "Qgsk6fG52xZj"
      },
      "source": [
        " (X_train, y_train), (X_test, y_test) = tf.keras.datasets.cifar10.load_data()"
      ],
      "execution_count": 3,
      "outputs": []
    },
    {
      "cell_type": "code",
      "metadata": {
        "colab": {
          "base_uri": "https://localhost:8080/"
        },
        "id": "3AGkXwRQlQby",
        "outputId": "d5f1896c-5a3e-4cd3-8a3f-9e95e44d499f"
      },
      "source": [
        "X_train.shape\r\n",
        "X_test.shape"
      ],
      "execution_count": 4,
      "outputs": [
        {
          "output_type": "execute_result",
          "data": {
            "text/plain": [
              "(10000, 32, 32, 3)"
            ]
          },
          "metadata": {
            "tags": []
          },
          "execution_count": 4
        }
      ]
    },
    {
      "cell_type": "code",
      "metadata": {
        "id": "P35cAUo_9Zyk"
      },
      "source": [
        "X_train = X_train.astype('float32')\r\n",
        "X_test = X_test.astype('float32')"
      ],
      "execution_count": 5,
      "outputs": []
    },
    {
      "cell_type": "code",
      "metadata": {
        "id": "XXE8XsCUmGBc"
      },
      "source": [
        "X_train = X_train/255.0\r\n",
        "X_test = X_test/255.0"
      ],
      "execution_count": 6,
      "outputs": []
    },
    {
      "cell_type": "code",
      "metadata": {
        "colab": {
          "base_uri": "https://localhost:8080/"
        },
        "id": "bLvK8KZbrzoM",
        "outputId": "880ab7ce-99b1-44d5-b412-7016bd7533d2"
      },
      "source": [
        "y_train.shape"
      ],
      "execution_count": 7,
      "outputs": [
        {
          "output_type": "execute_result",
          "data": {
            "text/plain": [
              "(50000, 1)"
            ]
          },
          "metadata": {
            "tags": []
          },
          "execution_count": 7
        }
      ]
    },
    {
      "cell_type": "code",
      "metadata": {
        "colab": {
          "base_uri": "https://localhost:8080/"
        },
        "id": "YUplzusfmdXP",
        "outputId": "da188e7f-24a8-4c75-e818-446c9c7393f8"
      },
      "source": [
        "from keras.utils import np_utils\r\n",
        "y_train =np_utils.to_categorical(y_train)\r\n",
        "y_test = np_utils.to_categorical(y_test)\r\n",
        "num_classes=y_test.shape[1]\r\n",
        "print(num_classes)"
      ],
      "execution_count": 8,
      "outputs": [
        {
          "output_type": "stream",
          "text": [
            "10\n"
          ],
          "name": "stdout"
        }
      ]
    },
    {
      "cell_type": "markdown",
      "metadata": {
        "id": "af8O4l90gk7B"
      },
      "source": [
        "#Building the CNN"
      ]
    },
    {
      "cell_type": "markdown",
      "metadata": {
        "id": "ces1gXY2lmoX"
      },
      "source": [
        "### Initialising the CNN"
      ]
    },
    {
      "cell_type": "code",
      "metadata": {
        "id": "MhNpG_eRn9h9"
      },
      "source": [
        "cnn = tf.keras.models.Sequential()"
      ],
      "execution_count": 9,
      "outputs": []
    },
    {
      "cell_type": "code",
      "metadata": {
        "id": "Ws2SuFPXvh1m"
      },
      "source": [
        "from keras.constraints import maxnorm"
      ],
      "execution_count": 10,
      "outputs": []
    },
    {
      "cell_type": "markdown",
      "metadata": {
        "id": "u5YJj_XMl5LF"
      },
      "source": [
        "Convolution"
      ]
    },
    {
      "cell_type": "code",
      "metadata": {
        "id": "J4UU3lAjoFUy"
      },
      "source": [
        "cnn.add(tf.keras.layers.Conv2D(filters=32, kernel_size=3, activation='relu', padding='same', kernel_constraint= maxnorm(3) ,input_shape = (32,32,3)))\r\n",
        "cnn.add(tf.keras.layers.Dropout(0.2))"
      ],
      "execution_count": 11,
      "outputs": []
    },
    {
      "cell_type": "markdown",
      "metadata": {
        "id": "tf87FpvxmNOJ"
      },
      "source": [
        "# Pooling"
      ]
    },
    {
      "cell_type": "code",
      "metadata": {
        "id": "DTp5kECYomVD"
      },
      "source": [
        "#cnn.add(tf.keras.layers.MaxPool2D(pool_size= (2, 2)))"
      ],
      "execution_count": 12,
      "outputs": []
    },
    {
      "cell_type": "markdown",
      "metadata": {
        "id": "xaTOgD8rm4mU"
      },
      "source": [
        "#second convolutional layer"
      ]
    },
    {
      "cell_type": "code",
      "metadata": {
        "id": "5RKCxt6EoyG-"
      },
      "source": [
        "cnn.add(tf.keras.layers.Conv2D(filters=32, kernel_size=3, activation='relu', padding='same', kernel_constraint=maxnorm(3)))\r\n",
        "cnn.add(tf.keras.layers.MaxPooling2D(pool_size=(2,2)))"
      ],
      "execution_count": 13,
      "outputs": []
    },
    {
      "cell_type": "markdown",
      "metadata": {
        "id": "dAoSECOm203v"
      },
      "source": [
        "#Full Connection"
      ]
    },
    {
      "cell_type": "code",
      "metadata": {
        "id": "EF7zSXGdpIX2"
      },
      "source": [
        "cnn.add(tf.keras.layers.Flatten())\r\n",
        "cnn.add(tf.keras.layers.Dense(units =512, activation='relu', kernel_constraint= maxnorm(3)))\r\n",
        "cnn.add(tf.keras.layers.Dropout(0.5))"
      ],
      "execution_count": 14,
      "outputs": []
    },
    {
      "cell_type": "markdown",
      "metadata": {
        "id": "yTldFvbX28Na"
      },
      "source": [
        "# Output Layer"
      ]
    },
    {
      "cell_type": "code",
      "metadata": {
        "id": "z5kNaA39pi2i"
      },
      "source": [
        "cnn.add(tf.keras.layers.Dense(units=num_classes, activation='softmax',))"
      ],
      "execution_count": 15,
      "outputs": []
    },
    {
      "cell_type": "markdown",
      "metadata": {
        "id": "D6XkI90snSDl"
      },
      "source": [
        "#Training the CNN"
      ]
    },
    {
      "cell_type": "code",
      "metadata": {
        "colab": {
          "base_uri": "https://localhost:8080/"
        },
        "id": "V8eNeVWVp3D5",
        "outputId": "4214c81a-4d9f-4f6e-e96f-d32f7d1f4348"
      },
      "source": [
        "cnn.compile(optimizer ='adam', loss ='categorical_crossentropy', metrics = (['accuracy']))\r\n",
        "cnn.summary()"
      ],
      "execution_count": 16,
      "outputs": [
        {
          "output_type": "stream",
          "text": [
            "Model: \"sequential\"\n",
            "_________________________________________________________________\n",
            "Layer (type)                 Output Shape              Param #   \n",
            "=================================================================\n",
            "conv2d (Conv2D)              (None, 32, 32, 32)        896       \n",
            "_________________________________________________________________\n",
            "dropout (Dropout)            (None, 32, 32, 32)        0         \n",
            "_________________________________________________________________\n",
            "conv2d_1 (Conv2D)            (None, 32, 32, 32)        9248      \n",
            "_________________________________________________________________\n",
            "max_pooling2d (MaxPooling2D) (None, 16, 16, 32)        0         \n",
            "_________________________________________________________________\n",
            "flatten (Flatten)            (None, 8192)              0         \n",
            "_________________________________________________________________\n",
            "dense (Dense)                (None, 512)               4194816   \n",
            "_________________________________________________________________\n",
            "dropout_1 (Dropout)          (None, 512)               0         \n",
            "_________________________________________________________________\n",
            "dense_1 (Dense)              (None, 10)                5130      \n",
            "=================================================================\n",
            "Total params: 4,210,090\n",
            "Trainable params: 4,210,090\n",
            "Non-trainable params: 0\n",
            "_________________________________________________________________\n"
          ],
          "name": "stdout"
        }
      ]
    },
    {
      "cell_type": "markdown",
      "metadata": {
        "id": "ehS-v3MIpX2h"
      },
      "source": [
        "# Training and evaluating it on the Test set"
      ]
    },
    {
      "cell_type": "code",
      "metadata": {
        "colab": {
          "base_uri": "https://localhost:8080/"
        },
        "id": "M0pir9Beqr7X",
        "outputId": "d066bd36-115a-41c4-d763-84e922beb2c2"
      },
      "source": [
        "cnn.fit(X_train, y_train, batch_size=32, epochs=10, validation_data=(X_test, y_test))"
      ],
      "execution_count": 17,
      "outputs": [
        {
          "output_type": "stream",
          "text": [
            "Epoch 1/10\n",
            "1563/1563 [==============================] - 228s 146ms/step - loss: 1.7579 - accuracy: 0.3661 - val_loss: 1.2237 - val_accuracy: 0.5803\n",
            "Epoch 2/10\n",
            "1563/1563 [==============================] - 230s 147ms/step - loss: 1.2140 - accuracy: 0.5676 - val_loss: 1.0549 - val_accuracy: 0.6378\n",
            "Epoch 3/10\n",
            "1563/1563 [==============================] - 227s 145ms/step - loss: 1.0448 - accuracy: 0.6261 - val_loss: 0.9769 - val_accuracy: 0.6632\n",
            "Epoch 4/10\n",
            "1563/1563 [==============================] - 227s 145ms/step - loss: 0.9753 - accuracy: 0.6567 - val_loss: 0.9541 - val_accuracy: 0.6719\n",
            "Epoch 5/10\n",
            "1563/1563 [==============================] - 227s 145ms/step - loss: 0.9411 - accuracy: 0.6671 - val_loss: 0.9111 - val_accuracy: 0.6857\n",
            "Epoch 6/10\n",
            "1563/1563 [==============================] - 227s 145ms/step - loss: 0.8968 - accuracy: 0.6825 - val_loss: 0.9139 - val_accuracy: 0.6800\n",
            "Epoch 7/10\n",
            "1563/1563 [==============================] - 227s 145ms/step - loss: 0.8599 - accuracy: 0.6947 - val_loss: 0.9203 - val_accuracy: 0.6784\n",
            "Epoch 8/10\n",
            "1563/1563 [==============================] - 227s 145ms/step - loss: 0.8369 - accuracy: 0.7003 - val_loss: 0.9035 - val_accuracy: 0.6832\n",
            "Epoch 9/10\n",
            "1563/1563 [==============================] - 228s 146ms/step - loss: 0.8157 - accuracy: 0.7105 - val_loss: 0.9301 - val_accuracy: 0.6696\n",
            "Epoch 10/10\n",
            "1563/1563 [==============================] - 227s 145ms/step - loss: 0.7946 - accuracy: 0.7182 - val_loss: 0.8781 - val_accuracy: 0.6944\n"
          ],
          "name": "stdout"
        },
        {
          "output_type": "execute_result",
          "data": {
            "text/plain": [
              "<tensorflow.python.keras.callbacks.History at 0x7f2772ff9128>"
            ]
          },
          "metadata": {
            "tags": []
          },
          "execution_count": 17
        }
      ]
    },
    {
      "cell_type": "code",
      "metadata": {
        "colab": {
          "base_uri": "https://localhost:8080/"
        },
        "id": "kdW1J521wAPZ",
        "outputId": "97c4439f-f018-4fc4-b67b-2a24ed274df2"
      },
      "source": [
        "_,acc = cnn.evaluate(X_test, y_test)\r\n",
        "print(acc*100)"
      ],
      "execution_count": 19,
      "outputs": [
        {
          "output_type": "stream",
          "text": [
            "313/313 [==============================] - 9s 29ms/step - loss: 0.8781 - accuracy: 0.6944\n",
            "69.44000124931335\n"
          ],
          "name": "stdout"
        }
      ]
    },
    {
      "cell_type": "code",
      "metadata": {
        "id": "qR2XH36wwg-w"
      },
      "source": [
        "cnn.save('Cnn_cifar10_10epoch.h5')"
      ],
      "execution_count": 20,
      "outputs": []
    },
    {
      "cell_type": "markdown",
      "metadata": {
        "id": "U3PZasO0006Z"
      },
      "source": [
        "#test prediction"
      ]
    },
    {
      "cell_type": "code",
      "metadata": {
        "id": "cdlHmWSQxb7_"
      },
      "source": [
        "results = {\r\n",
        "    0: 'aeroplane',\r\n",
        "    1: 'automobile',\r\n",
        "    2: 'bird',\r\n",
        "    3: 'cat',\r\n",
        "    4:'deer',\r\n",
        "    5: 'dog',\r\n",
        "    6: 'frog',\r\n",
        "    7: 'horse',\r\n",
        "    8: 'ship',\r\n",
        "    9: ' truck'\r\n",
        "}"
      ],
      "execution_count": 22,
      "outputs": []
    },
    {
      "cell_type": "code",
      "metadata": {
        "id": "_MXewWc8-kU_",
        "colab": {
          "base_uri": "https://localhost:8080/"
        },
        "outputId": "76f967b4-51ce-433f-a4b7-05dff3f946d7"
      },
      "source": [
        "import numpy as np\r\n",
        "from keras.preprocessing import image\r\n",
        "test_image = image.load_img('/content/2019_Top_Five_Class_5-Mack.jpg', target_size =(32, 32))\r\n",
        "test_image = image.img_to_array(test_image)\r\n",
        "test_image = np.expand_dims(test_image, axis = 0)\r\n",
        "prediction = cnn.predict_classes(test_image)\r\n",
        "print(prediction)\r\n"
      ],
      "execution_count": 42,
      "outputs": [
        {
          "output_type": "stream",
          "text": [
            "[9]\n"
          ],
          "name": "stdout"
        },
        {
          "output_type": "stream",
          "text": [
            "/usr/local/lib/python3.6/dist-packages/tensorflow/python/keras/engine/sequential.py:450: UserWarning: `model.predict_classes()` is deprecated and will be removed after 2021-01-01. Please use instead:* `np.argmax(model.predict(x), axis=-1)`,   if your model does multi-class classification   (e.g. if it uses a `softmax` last-layer activation).* `(model.predict(x) > 0.5).astype(\"int32\")`,   if your model does binary classification   (e.g. if it uses a `sigmoid` last-layer activation).\n",
            "  warnings.warn('`model.predict_classes()` is deprecated and '\n"
          ],
          "name": "stderr"
        }
      ]
    },
    {
      "cell_type": "code",
      "metadata": {
        "id": "5gQnEZmp7aKO"
      },
      "source": [
        "classs = results[prediction]\r\n",
        "print(classs)"
      ],
      "execution_count": null,
      "outputs": []
    }
  ]
}