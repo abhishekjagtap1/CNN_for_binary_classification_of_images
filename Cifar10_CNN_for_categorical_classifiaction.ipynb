{
  "nbformat": 4,
  "nbformat_minor": 0,
  "metadata": {
    "colab": {
      "name": "Cifar10_convolutional_neural_network.ipynb",
      "provenance": [],
      "collapsed_sections": [],
      "include_colab_link": true
    },
    "kernelspec": {
      "name": "python3",
      "display_name": "Python 3"
    }
  },
  "cells": [
    {
      "cell_type": "markdown",
      "metadata": {
        "id": "view-in-github",
        "colab_type": "text"
      },
      "source": [
        "<a href=\"https://colab.research.google.com/github/abhishekjagtap1/CNN_for_binary_classification_of_images/blob/main/Cifar10_CNN_for_categorical_classifiaction.ipynb\" target=\"_parent\"><img src=\"https://colab.research.google.com/assets/colab-badge.svg\" alt=\"Open In Colab\"/></a>"
      ]
    },
    {
      "cell_type": "markdown",
      "metadata": {
        "id": "3DR-eO17geWu"
      },
      "source": [
        "# Convolutional Neural Network"
      ]
    },
    {
      "cell_type": "markdown",
      "metadata": {
        "id": "EMefrVPCg-60"
      },
      "source": [
        "### Importing the libraries"
      ]
    },
    {
      "cell_type": "code",
      "metadata": {
        "id": "NnWB-7C0-PC4"
      },
      "source": [
        "import tensorflow as tf\r\n",
        "from keras.preprocessing.image import ImageDataGenerator"
      ],
      "execution_count": 13,
      "outputs": []
    },
    {
      "cell_type": "code",
      "metadata": {
        "colab": {
          "base_uri": "https://localhost:8080/",
          "height": 35
        },
        "id": "gZC6z0FY-kt0",
        "outputId": "0cd852e1-86c9-410e-cf1e-70c6de645026"
      },
      "source": [
        "tf.__version__"
      ],
      "execution_count": 2,
      "outputs": [
        {
          "output_type": "execute_result",
          "data": {
            "application/vnd.google.colaboratory.intrinsic+json": {
              "type": "string"
            },
            "text/plain": [
              "'2.4.0'"
            ]
          },
          "metadata": {
            "tags": []
          },
          "execution_count": 2
        }
      ]
    },
    {
      "cell_type": "code",
      "metadata": {
        "id": "Qgsk6fG52xZj"
      },
      "source": [
        " (X_train, y_train), (X_test, y_test) = tf.keras.datasets.cifar10.load_data()"
      ],
      "execution_count": 9,
      "outputs": []
    },
    {
      "cell_type": "code",
      "metadata": {
        "id": "Fhe0dnwm5hG5"
      },
      "source": [
        "X_train = X_train / 255.0\r\n",
        "X_test = X_test/255.0"
      ],
      "execution_count": 10,
      "outputs": []
    },
    {
      "cell_type": "code",
      "metadata": {
        "colab": {
          "base_uri": "https://localhost:8080/"
        },
        "id": "yohLU9es7Kfd",
        "outputId": "f79f93d4-f3f3-4720-d917-b1c9080f8454"
      },
      "source": [
        "X_train.shape"
      ],
      "execution_count": 11,
      "outputs": [
        {
          "output_type": "execute_result",
          "data": {
            "text/plain": [
              "(50000, 32, 32, 3)"
            ]
          },
          "metadata": {
            "tags": []
          },
          "execution_count": 11
        }
      ]
    },
    {
      "cell_type": "code",
      "metadata": {
        "colab": {
          "base_uri": "https://localhost:8080/"
        },
        "id": "k4NLOV4J74I6",
        "outputId": "f7704b5a-9f3a-4e2a-b53e-db2448b9566c"
      },
      "source": [
        "y_train.shape"
      ],
      "execution_count": 12,
      "outputs": [
        {
          "output_type": "execute_result",
          "data": {
            "text/plain": [
              "(50000, 1)"
            ]
          },
          "metadata": {
            "tags": []
          },
          "execution_count": 12
        }
      ]
    },
    {
      "cell_type": "code",
      "metadata": {
        "colab": {
          "base_uri": "https://localhost:8080/"
        },
        "id": "gTPNOkrzFl6C",
        "outputId": "b1ee40a7-f20b-440b-b462-fe26c6dc16ea"
      },
      "source": [
        "X_test.shape"
      ],
      "execution_count": 63,
      "outputs": [
        {
          "output_type": "execute_result",
          "data": {
            "text/plain": [
              "(10000, 32, 32, 3)"
            ]
          },
          "metadata": {
            "tags": []
          },
          "execution_count": 63
        }
      ]
    },
    {
      "cell_type": "code",
      "metadata": {
        "colab": {
          "base_uri": "https://localhost:8080/"
        },
        "id": "6WkxysuhFmzv",
        "outputId": "288e9559-5153-4f8b-9bf4-62d453494057"
      },
      "source": [
        "from google.colab import drive\n",
        "drive.mount('/content/drive')"
      ],
      "execution_count": 43,
      "outputs": [
        {
          "output_type": "stream",
          "text": [
            "Mounted at /content/drive\n"
          ],
          "name": "stdout"
        }
      ]
    },
    {
      "cell_type": "markdown",
      "metadata": {
        "id": "af8O4l90gk7B"
      },
      "source": [
        "#Building the CNN"
      ]
    },
    {
      "cell_type": "markdown",
      "metadata": {
        "id": "ces1gXY2lmoX"
      },
      "source": [
        "### Initialising the CNN"
      ]
    },
    {
      "cell_type": "code",
      "metadata": {
        "id": "lLhDaFcu8RYo"
      },
      "source": [
        "cnn = tf.keras.models.Sequential()"
      ],
      "execution_count": 33,
      "outputs": []
    },
    {
      "cell_type": "markdown",
      "metadata": {
        "id": "u5YJj_XMl5LF"
      },
      "source": [
        "Convolution"
      ]
    },
    {
      "cell_type": "code",
      "metadata": {
        "id": "uUg5GFsd8Wwd"
      },
      "source": [
        "cnn.add(tf.keras.layers.Conv2D(filters=32, kernel_size = 3, strides= 2, activation='relu',input_shape = (32, 32, 3)))"
      ],
      "execution_count": 34,
      "outputs": []
    },
    {
      "cell_type": "markdown",
      "metadata": {
        "id": "tf87FpvxmNOJ"
      },
      "source": [
        "# Pooling"
      ]
    },
    {
      "cell_type": "code",
      "metadata": {
        "id": "pIN7LWlU9N97"
      },
      "source": [
        "cnn.add(tf.keras.layers.MaxPool2D(pool_size = (2,2), strides = 1))"
      ],
      "execution_count": 35,
      "outputs": []
    },
    {
      "cell_type": "markdown",
      "metadata": {
        "id": "xaTOgD8rm4mU"
      },
      "source": [
        "#second convolutional layer"
      ]
    },
    {
      "cell_type": "code",
      "metadata": {
        "id": "PbyYf5mGBzT9"
      },
      "source": [
        "cnn.add(tf.keras.layers.Conv2D(filters=64, kernel_size=3, activation='relu'))\r\n",
        "cnn.add(tf.keras.layers.MaxPool2D(pool_size= (2,2)))"
      ],
      "execution_count": 36,
      "outputs": []
    },
    {
      "cell_type": "code",
      "metadata": {
        "id": "oflYH2Q-COff"
      },
      "source": [
        "#flatenning\r\n",
        "cnn.add(tf.keras.layers.Flatten())"
      ],
      "execution_count": 37,
      "outputs": []
    },
    {
      "cell_type": "markdown",
      "metadata": {
        "id": "dAoSECOm203v"
      },
      "source": [
        "#Full Connection"
      ]
    },
    {
      "cell_type": "code",
      "metadata": {
        "id": "kwvJ__Z59msK"
      },
      "source": [
        "cnn.add(tf.keras.layers.Dense(units = 64, activation= 'relu',))"
      ],
      "execution_count": 38,
      "outputs": []
    },
    {
      "cell_type": "markdown",
      "metadata": {
        "id": "yTldFvbX28Na"
      },
      "source": [
        "# Output Layer"
      ]
    },
    {
      "cell_type": "code",
      "metadata": {
        "id": "aydaGncN99BJ"
      },
      "source": [
        "cnn.add(tf.keras.layers.Dense(units = 10, activation = 'softmax',))"
      ],
      "execution_count": 39,
      "outputs": []
    },
    {
      "cell_type": "markdown",
      "metadata": {
        "id": "D6XkI90snSDl"
      },
      "source": [
        "#Training the CNN"
      ]
    },
    {
      "cell_type": "code",
      "metadata": {
        "id": "XLpatsPH-NBg"
      },
      "source": [
        "#compiling\r\n",
        "cnn.compile(optimizer = 'adam', loss = 'sparse_categorical_crossentropy', metrics = ['accuracy'])"
      ],
      "execution_count": 40,
      "outputs": []
    },
    {
      "cell_type": "markdown",
      "metadata": {
        "id": "ehS-v3MIpX2h"
      },
      "source": [
        "# Training and evaluating it on the Test set"
      ]
    },
    {
      "cell_type": "code",
      "metadata": {
        "colab": {
          "base_uri": "https://localhost:8080/"
        },
        "id": "9OzF2-y2-cXD",
        "outputId": "944903c3-dad7-4d1a-d815-3a7926532a0c"
      },
      "source": [
        "cnn.fit(X_train, y_train, validation_data = X_test, validation_split=1/6, epochs = 25,)"
      ],
      "execution_count": null,
      "outputs": [
        {
          "output_type": "stream",
          "text": [
            "Epoch 1/25\n",
            "1303/1303 [==============================] - 37s 28ms/step - loss: 0.8031 - accuracy: 0.7195 - val_loss: 0.8221 - val_accuracy: 0.7167\n",
            "Epoch 2/25\n",
            "1303/1303 [==============================] - 36s 28ms/step - loss: 0.7594 - accuracy: 0.7364 - val_loss: 0.8270 - val_accuracy: 0.7169\n",
            "Epoch 3/25\n",
            "1303/1303 [==============================] - 36s 28ms/step - loss: 0.7210 - accuracy: 0.7489 - val_loss: 0.9394 - val_accuracy: 0.6833\n",
            "Epoch 4/25\n",
            "1303/1303 [==============================] - 37s 28ms/step - loss: 0.6879 - accuracy: 0.7593 - val_loss: 0.8684 - val_accuracy: 0.7054\n",
            "Epoch 5/25\n",
            "1303/1303 [==============================] - 37s 28ms/step - loss: 0.6530 - accuracy: 0.7723 - val_loss: 0.8656 - val_accuracy: 0.7078\n",
            "Epoch 6/25\n",
            "1303/1303 [==============================] - 37s 28ms/step - loss: 0.6250 - accuracy: 0.7804 - val_loss: 0.8661 - val_accuracy: 0.7167\n",
            "Epoch 7/25\n",
            "1303/1303 [==============================] - 37s 28ms/step - loss: 0.5957 - accuracy: 0.7925 - val_loss: 0.8789 - val_accuracy: 0.7102\n",
            "Epoch 8/25\n",
            "1303/1303 [==============================] - 37s 28ms/step - loss: 0.5659 - accuracy: 0.8034 - val_loss: 0.8719 - val_accuracy: 0.7165\n",
            "Epoch 9/25\n",
            "1303/1303 [==============================] - 36s 28ms/step - loss: 0.5415 - accuracy: 0.8094 - val_loss: 0.9187 - val_accuracy: 0.7153\n",
            "Epoch 10/25\n",
            "1303/1303 [==============================] - 36s 28ms/step - loss: 0.5152 - accuracy: 0.8194 - val_loss: 0.9579 - val_accuracy: 0.7073\n",
            "Epoch 11/25\n",
            "1303/1303 [==============================] - 37s 28ms/step - loss: 0.4949 - accuracy: 0.8265 - val_loss: 0.9501 - val_accuracy: 0.7046\n",
            "Epoch 12/25\n",
            "1303/1303 [==============================] - 37s 28ms/step - loss: 0.4728 - accuracy: 0.8352 - val_loss: 0.9922 - val_accuracy: 0.6991\n",
            "Epoch 13/25\n",
            "1303/1303 [==============================] - 37s 28ms/step - loss: 0.4507 - accuracy: 0.8415 - val_loss: 1.0775 - val_accuracy: 0.6905\n",
            "Epoch 14/25\n",
            "1303/1303 [==============================] - 37s 28ms/step - loss: 0.4404 - accuracy: 0.8455 - val_loss: 1.0269 - val_accuracy: 0.6964\n",
            "Epoch 15/25\n",
            "1303/1303 [==============================] - 36s 28ms/step - loss: 0.4132 - accuracy: 0.8533 - val_loss: 1.0459 - val_accuracy: 0.7027\n",
            "Epoch 16/25\n",
            "1303/1303 [==============================] - 36s 28ms/step - loss: 0.3924 - accuracy: 0.8604 - val_loss: 1.1384 - val_accuracy: 0.6901\n",
            "Epoch 17/25\n",
            "1303/1303 [==============================] - 37s 28ms/step - loss: 0.3733 - accuracy: 0.8683 - val_loss: 1.1244 - val_accuracy: 0.6902\n",
            "Epoch 18/25\n",
            "1303/1303 [==============================] - 36s 28ms/step - loss: 0.3547 - accuracy: 0.8750 - val_loss: 1.1556 - val_accuracy: 0.6953\n",
            "Epoch 19/25\n",
            "1303/1303 [==============================] - 37s 28ms/step - loss: 0.3406 - accuracy: 0.8792 - val_loss: 1.2241 - val_accuracy: 0.6923\n",
            "Epoch 20/25\n",
            "1303/1303 [==============================] - 37s 28ms/step - loss: 0.3276 - accuracy: 0.8840 - val_loss: 1.3259 - val_accuracy: 0.6861\n",
            "Epoch 21/25\n",
            "1303/1303 [==============================] - 37s 28ms/step - loss: 0.3107 - accuracy: 0.8888 - val_loss: 1.3709 - val_accuracy: 0.6839\n",
            "Epoch 22/25\n",
            "1303/1303 [==============================] - 37s 29ms/step - loss: 0.2948 - accuracy: 0.8939 - val_loss: 1.4351 - val_accuracy: 0.6833\n",
            "Epoch 23/25\n",
            "1303/1303 [==============================] - 37s 28ms/step - loss: 0.2879 - accuracy: 0.8968 - val_loss: 1.3908 - val_accuracy: 0.6832\n",
            "Epoch 24/25\n",
            "1303/1303 [==============================] - 36s 28ms/step - loss: 0.2696 - accuracy: 0.9040 - val_loss: 1.4878 - val_accuracy: 0.6795\n",
            "Epoch 25/25\n",
            "1153/1303 [=========================>....] - ETA: 3s - loss: 0.2533 - accuracy: 0.9097"
          ],
          "name": "stdout"
        }
      ]
    },
    {
      "cell_type": "markdown",
      "metadata": {
        "id": "U3PZasO0006Z"
      },
      "source": [
        "#test prediction"
      ]
    },
    {
      "cell_type": "code",
      "metadata": {
        "id": "_MXewWc8-kU_",
        "colab": {
          "base_uri": "https://localhost:8080/",
          "height": 128
        },
        "outputId": "3006fa44-a861-41e4-d508-9ff0f3678997"
      },
      "source": [
        "import numpy as np\r\n",
        "from keras.preprocessing import image\r\n",
        "test_image = image.load_img('/content/drive/MyDrive/Machine Learning(udemy)/Deep learning/Section 40 - Convolutional Neural Networks (CNN)/Python/dataset/single_prediction/adorable-white-pomeranian-puppy-spitz-921029690-5c8be25d46e0fb000172effe.jpg', target_size =(32, 32))\r\n",
        "test_image = image.img_to_array(test_image)\r\n",
        "test_image = np.expand_dims(test_image, axis = 0)\r\n",
        "result = cnn.predict(test_image)\r\n",
        "print(result)\r\n"
      ],
      "execution_count": 72,
      "outputs": [
        {
          "output_type": "error",
          "ename": "SyntaxError",
          "evalue": "ignored",
          "traceback": [
            "\u001b[0;36m  File \u001b[0;32m\"<ipython-input-72-002e9b5442c5>\"\u001b[0;36m, line \u001b[0;32m10\u001b[0m\n\u001b[0;31m    result[:, :, :] = class_names[]\u001b[0m\n\u001b[0m                                  ^\u001b[0m\n\u001b[0;31mSyntaxError\u001b[0m\u001b[0;31m:\u001b[0m invalid syntax\n"
          ]
        }
      ]
    }
  ]
}